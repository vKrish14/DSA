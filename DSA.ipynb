{
  "nbformat": 4,
  "nbformat_minor": 0,
  "metadata": {
    "colab": {
      "provenance": [],
      "authorship_tag": "ABX9TyNlZ1Nbq2BkT/u7ZWsJjWGp",
      "include_colab_link": true
    },
    "kernelspec": {
      "name": "python3",
      "display_name": "Python 3"
    },
    "language_info": {
      "name": "python"
    }
  },
  "cells": [
    {
      "cell_type": "markdown",
      "metadata": {
        "id": "view-in-github",
        "colab_type": "text"
      },
      "source": [
        "<a href=\"https://colab.research.google.com/github/vKrish14/DSA/blob/main/DSA.ipynb\" target=\"_parent\"><img src=\"https://colab.research.google.com/assets/colab-badge.svg\" alt=\"Open In Colab\"/></a>"
      ]
    },
    {
      "cell_type": "code",
      "execution_count": null,
      "metadata": {
        "id": "1D7GYVgsgom7"
      },
      "outputs": [],
      "source": [
        "def printo(n):\n",
        "  for i in range(n):\n",
        "    print(i)\n",
        "  for j in range(n):\n",
        "    print(j)\n",
        "printo(10)"
      ]
    },
    {
      "cell_type": "code",
      "source": [
        "def printo(n):\n",
        "  for i in range(n):\n",
        "    for j in range(n):\n",
        "      print(i,j)\n",
        "  for k in range(n):\n",
        "    print(k)\n",
        "printo(10)"
      ],
      "metadata": {
        "id": "zJFg-xK6hDZV"
      },
      "execution_count": null,
      "outputs": []
    },
    {
      "cell_type": "code",
      "source": [
        "def add_numbers(n):\n",
        "  return n + n\n",
        "add_numbers(2)"
      ],
      "metadata": {
        "colab": {
          "base_uri": "https://localhost:8080/"
        },
        "id": "v5p746lFwGK8",
        "outputId": "56e0da73-25fe-49d1-898d-565b65b08c83"
      },
      "execution_count": null,
      "outputs": [
        {
          "output_type": "execute_result",
          "data": {
            "text/plain": [
              "4"
            ]
          },
          "metadata": {},
          "execution_count": 25
        }
      ]
    },
    {
      "cell_type": "code",
      "source": [
        "a=[2,6,5,3,1,4]\n",
        "a=sorted(a)\n",
        "a.pop(5)\n",
        "print(a)\n",
        "a.insert(5,6)\n",
        "print(a)"
      ],
      "metadata": {
        "colab": {
          "base_uri": "https://localhost:8080/"
        },
        "id": "OhP2iy2UygkZ",
        "outputId": "d7c29773-99cb-4346-e84f-8af2b84d3b39"
      },
      "execution_count": null,
      "outputs": [
        {
          "output_type": "stream",
          "name": "stdout",
          "text": [
            "[1, 2, 3, 4, 5]\n",
            "[1, 2, 3, 4, 5, 6]\n"
          ]
        }
      ]
    },
    {
      "cell_type": "code",
      "source": [
        "#classes\n",
        "class Cookie:\n",
        "  def __init__(self, color):  #initialize class\n",
        "    self.color = color #Constructor\n",
        "\n",
        "  def get_color(self):\n",
        "    return self.color\n",
        "\n",
        "  def set_color(self,color):\n",
        "    self.color = color\n",
        "\n",
        "cookie_one = Cookie('green')\n",
        "cookie_two = Cookie('blue')\n",
        "\n",
        "print('Cookie one is', cookie_one.get_color())\n",
        "print('Cookie two is', cookie_two.get_color())\n",
        "\n",
        "cookie_one.set_color('yellow')\n",
        "\n",
        "print('\\nCookie one is now',cookie_one.get_color())\n",
        "print('Cookie two is still', cookie_two.get_color())"
      ],
      "metadata": {
        "id": "nzF7ufJa0TCX",
        "colab": {
          "base_uri": "https://localhost:8080/"
        },
        "outputId": "a55a5320-ad34-410a-b4ab-95897aad3458"
      },
      "execution_count": 9,
      "outputs": [
        {
          "output_type": "stream",
          "name": "stdout",
          "text": [
            "Cookie one is green\n",
            "Cookie two is blue\n",
            "\n",
            "Cookie one is now yellow\n",
            "Cookie two is still blue\n"
          ]
        }
      ]
    },
    {
      "cell_type": "code",
      "source": [
        "#LinekedList\n",
        "class LinkedList:\n",
        "  def __init__(self, value):\n",
        "    self.value= value\n",
        "  def get_value(self):\n",
        "    return self.value\n",
        "  def set_value(self,value):\n",
        "    self.value = value\n",
        "LL1= LinkedList('1,2,3')\n",
        "LL2= LinkedList('4,5,6')\n",
        "LL3= LinkedList('7')\n",
        "print('The first LinkedList is',LL1.get_value())\n",
        "print('The second LinkedList is',LL2.get_value())\n",
        "print('The third LinkedList is',LL3.get_value())\n",
        "LL1.set_value('7')\n",
        "LL2.set_value('6,5,4')\n",
        "LL3.set_value('3,2,1')\n",
        "print('\\nThe updated LinkedList is',LL1.get_value())\n",
        "print('The updated LinkedList is',LL2.get_value())\n",
        "print('The updated LinkedList is',LL3.get_value())"
      ],
      "metadata": {
        "colab": {
          "base_uri": "https://localhost:8080/"
        },
        "id": "yylfSzKV8DOh",
        "outputId": "e1eb78c7-c7b9-474a-8722-d010b0640f44"
      },
      "execution_count": 22,
      "outputs": [
        {
          "output_type": "stream",
          "name": "stdout",
          "text": [
            "The first LinkedList is 1,2,3\n",
            "The second LinkedList is 4,5,6\n",
            "The third LinkedList is 7\n",
            "\n",
            "The updated LinkedList is 7\n",
            "The updated LinkedList is 6,5,4\n",
            "The updated LinkedList is 3,2,1\n"
          ]
        }
      ]
    },
    {
      "cell_type": "code",
      "source": [],
      "metadata": {
        "id": "jetD3vA1_AeF"
      },
      "execution_count": null,
      "outputs": []
    }
  ]
}